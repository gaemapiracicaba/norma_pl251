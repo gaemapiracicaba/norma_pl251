{
 "cells": [
  {
   "cell_type": "markdown",
   "id": "a90b116d",
   "metadata": {},
   "source": [
    "<br>\n",
    "\n",
    "# Introdução"
   ]
  },
  {
   "cell_type": "code",
   "execution_count": null,
   "id": "9e2b0a93",
   "metadata": {},
   "outputs": [],
   "source": [
    "import os\n",
    "import numpy as np\n",
    "import pandas as pd\n",
    "import seaborn as sns\n",
    "import seaborn as sns\n",
    "import matplotlib.pyplot as plt"
   ]
  },
  {
   "cell_type": "code",
   "execution_count": null,
   "id": "ef3e513c",
   "metadata": {},
   "outputs": [],
   "source": [
    "os.makedirs('imgs', exist_ok=True)"
   ]
  },
  {
   "cell_type": "markdown",
   "id": "2fcddbf2",
   "metadata": {},
   "source": [
    "<br>\n",
    "\n",
    "# Tabelas"
   ]
  },
  {
   "cell_type": "code",
   "execution_count": null,
   "id": "40362f39",
   "metadata": {},
   "outputs": [],
   "source": [
    "df_ugrhi = pd.read_csv(\n",
    "    os.path.join('data', 'tabs', 'tab_municipio_ugrhi.csv'),    \n",
    ")\n",
    "\n",
    "df_ugrhi.head()"
   ]
  },
  {
   "cell_type": "code",
   "execution_count": null,
   "id": "c2664a56",
   "metadata": {},
   "outputs": [],
   "source": [
    "df_rm = pd.read_csv(\n",
    "    os.path.join('data', 'tabs', 'tab_municipio_rm.csv'),\n",
    "    #usecols=['id_municipio', 'municipio_nome']\n",
    ")\n",
    "df_rm.head()"
   ]
  },
  {
   "cell_type": "code",
   "execution_count": null,
   "id": "749322fd",
   "metadata": {},
   "outputs": [],
   "source": [
    "df_pl251 = pd.read_csv(\n",
    "    os.path.join('data', 'tabs', 'tab_municipio_pl251.csv'),\n",
    "    usecols=['id_municipio', 'municipio_nome', 'unidade']\n",
    ")\n",
    "df_pl251.head()"
   ]
  },
  {
   "cell_type": "code",
   "execution_count": null,
   "id": "e7d92a66",
   "metadata": {},
   "outputs": [],
   "source": [
    "df_pl251 = df_pl251.merge(\n",
    "    df_rm,\n",
    "    on='id_municipio',\n",
    "    how='left',\n",
    ")\n",
    "\n",
    "df_pl251 = df_pl251.merge(\n",
    "    df_ugrhi,\n",
    "    on='id_municipio',\n",
    "    how='left',\n",
    ")\n",
    "\n",
    "print(df_pl251.describe())\n",
    "df_pl251.head()"
   ]
  },
  {
   "cell_type": "code",
   "execution_count": null,
   "id": "66412036",
   "metadata": {},
   "outputs": [],
   "source": [
    "df = df_pl251.copy()"
   ]
  },
  {
   "cell_type": "markdown",
   "id": "81cbebb2",
   "metadata": {},
   "source": [
    "<br>\n",
    "\n",
    "# Basic"
   ]
  },
  {
   "cell_type": "code",
   "execution_count": null,
   "id": "27c16bfe",
   "metadata": {},
   "outputs": [],
   "source": [
    "#df = df[df['unidade'] == 'URAE 1 - Sudeste'].copy()"
   ]
  },
  {
   "cell_type": "code",
   "execution_count": null,
   "id": "5fc4a7f7",
   "metadata": {},
   "outputs": [],
   "source": [
    "len(df)"
   ]
  },
  {
   "cell_type": "code",
   "execution_count": null,
   "id": "e76ee100",
   "metadata": {},
   "outputs": [],
   "source": [
    "(len(df)/645)*100"
   ]
  },
  {
   "cell_type": "code",
   "execution_count": null,
   "id": "9436fd24",
   "metadata": {},
   "outputs": [],
   "source": [
    "df.head()"
   ]
  },
  {
   "cell_type": "code",
   "execution_count": null,
   "id": "72aa76db",
   "metadata": {},
   "outputs": [],
   "source": [
    "set(df['nome_rm'])"
   ]
  },
  {
   "cell_type": "code",
   "execution_count": null,
   "id": "4191491c",
   "metadata": {},
   "outputs": [],
   "source": [
    "chart = df['nome_rm'].value_counts().plot(kind='bar')\n",
    "fig = chart.get_figure()\n",
    "fig.savefig(os.path.join('imgs', 'plot_rm.png'), bbox_inches='tight')"
   ]
  },
  {
   "cell_type": "code",
   "execution_count": null,
   "id": "21a98a30",
   "metadata": {},
   "outputs": [],
   "source": [
    "df2 = df.copy()\n",
    "df2['nome_rm'] = df2['nome_rm'].fillna(0)\n",
    "chart = df2['nome_rm'].value_counts().plot(kind='bar')\n",
    "fig = chart.get_figure()\n",
    "fig.savefig(os.path.join('imgs', 'plot_rm_0.png'), bbox_inches='tight')"
   ]
  },
  {
   "cell_type": "code",
   "execution_count": null,
   "id": "e641a504",
   "metadata": {},
   "outputs": [],
   "source": [
    "print(len(set(df['nome_ugrhi'])))\n",
    "set(df['nome_ugrhi'])"
   ]
  },
  {
   "cell_type": "code",
   "execution_count": null,
   "id": "ede58e50",
   "metadata": {},
   "outputs": [],
   "source": [
    "chart = df['nome_ugrhi'].value_counts().plot(kind='bar')\n",
    "fig = chart.get_figure()\n",
    "fig.savefig(os.path.join('imgs', 'plot_ugrhi.png'), bbox_inches='tight')"
   ]
  },
  {
   "cell_type": "code",
   "execution_count": null,
   "id": "35afaf24",
   "metadata": {},
   "outputs": [],
   "source": [
    "df.head()"
   ]
  },
  {
   "cell_type": "markdown",
   "id": "a8a74355",
   "metadata": {},
   "source": [
    "<br>\n",
    "\n",
    "# HeapMap"
   ]
  },
  {
   "cell_type": "markdown",
   "id": "8db27613",
   "metadata": {},
   "source": [
    "## UGRHI"
   ]
  },
  {
   "cell_type": "code",
   "execution_count": null,
   "id": "665035fc",
   "metadata": {},
   "outputs": [],
   "source": [
    "a = df.groupby(by=['nome_ugrhi'])['unidade'].value_counts().sort_index()\n",
    "a = a.unstack()\n",
    "a.fillna(value=0, inplace=True)\n",
    "a"
   ]
  },
  {
   "cell_type": "code",
   "execution_count": null,
   "id": "0fddef6e",
   "metadata": {},
   "outputs": [],
   "source": [
    "fig = plt.figure(figsize=(10,15))\n",
    "ax1 = plt.subplot2grid((20,20), (0,0), colspan=19, rowspan=19)\n",
    "ax2 = plt.subplot2grid((20,20), (19,0), colspan=19, rowspan=1)\n",
    "ax3 = plt.subplot2grid((20,20), (0,19), colspan=1, rowspan=19)\n",
    "\n",
    "sns.heatmap(\n",
    "    a,\n",
    "    cmap='YlGnBu',\n",
    "    annot=True,\n",
    "    ax=ax1,\n",
    "    cbar=False,\n",
    ")\n",
    "\n",
    "ax1.xaxis.tick_top()\n",
    "ax1.set_xticklabels(a.columns, rotation=40)\n",
    "ax3.get_xaxis().set_visible(False)\n",
    "ax3.get_yaxis().set_visible(False)\n",
    "ax1.xaxis.label.set_visible(False)\n",
    "ax1.yaxis.label.set_visible(False)\n",
    "ax2.xaxis.label.set_visible(False)\n",
    "\n",
    "sns.heatmap(\n",
    "    pd.DataFrame(a.sum(axis=0)).transpose(),\n",
    "    ax=ax2,\n",
    "    annot=True,\n",
    "    cmap='YlGnBu',\n",
    "    cbar=False,\n",
    "    fmt='n',\n",
    "    xticklabels=False,\n",
    "    yticklabels=False\n",
    ")\n",
    "sns.heatmap(\n",
    "    pd.DataFrame(a.sum(axis=1)),\n",
    "    ax=ax3,\n",
    "    annot=True,\n",
    "    cmap='YlGnBu',\n",
    "    cbar=False,\n",
    "    fmt='n',\n",
    "    xticklabels=False,\n",
    "    yticklabels=False,\n",
    ")\n",
    "\n",
    "# Results\n",
    "plt.show()\n",
    "fig.savefig(os.path.join('imgs', 'matrix_ugrhi.png'), bbox_inches='tight')"
   ]
  },
  {
   "cell_type": "markdown",
   "id": "7b7505f4",
   "metadata": {},
   "source": [
    "<br>\n",
    "\n",
    "## RMs e AUs"
   ]
  },
  {
   "cell_type": "code",
   "execution_count": null,
   "id": "3c4a0a33",
   "metadata": {},
   "outputs": [],
   "source": [
    "#df['nome_rm'].fillna(value='_Fora de RMs/AUs', inplace=True)"
   ]
  },
  {
   "cell_type": "code",
   "execution_count": null,
   "id": "e3afad35",
   "metadata": {},
   "outputs": [],
   "source": [
    "df['nome_rm'].fillna(value='_Fora de RMs/AUs', inplace=True)\n",
    "a = df.groupby(by=['nome_rm'])['unidade'].value_counts().sort_index()\n",
    "a = a.unstack()\n",
    "a"
   ]
  },
  {
   "cell_type": "code",
   "execution_count": null,
   "id": "98398e90",
   "metadata": {},
   "outputs": [],
   "source": [
    "fig = plt.figure(figsize=(10,15))\n",
    "ax1 = plt.subplot2grid((20,20), (0,0), colspan=19, rowspan=19)\n",
    "ax2 = plt.subplot2grid((20,20), (19,0), colspan=19, rowspan=1)\n",
    "ax3 = plt.subplot2grid((20,20), (0,19), colspan=1, rowspan=19)\n",
    "\n",
    "sns.heatmap(\n",
    "    a,\n",
    "    cmap='YlGnBu',\n",
    "    annot=True,\n",
    "    ax=ax1,\n",
    "    cbar=False,\n",
    "    fmt='n',\n",
    ")\n",
    "\n",
    "ax1.xaxis.tick_top()\n",
    "ax1.set_xticklabels(a.columns, rotation=40)\n",
    "ax3.get_xaxis().set_visible(False)\n",
    "ax3.get_yaxis().set_visible(False)\n",
    "ax1.xaxis.label.set_visible(False)\n",
    "ax1.yaxis.label.set_visible(False)\n",
    "ax2.xaxis.label.set_visible(False)\n",
    "\n",
    "sns.heatmap(\n",
    "    pd.DataFrame(a.sum(axis=0)).transpose(),\n",
    "    ax=ax2,\n",
    "    annot=True,\n",
    "    cmap='YlGnBu',\n",
    "    cbar=False,\n",
    "    fmt='n',\n",
    "    xticklabels=False,\n",
    "    yticklabels=False\n",
    ")\n",
    "sns.heatmap(\n",
    "    pd.DataFrame(a.sum(axis=1)),\n",
    "    ax=ax3,\n",
    "    annot=True,\n",
    "    cmap='YlGnBu',\n",
    "    cbar=False,\n",
    "    fmt='n',\n",
    "    xticklabels=False,\n",
    "    yticklabels=False,\n",
    ")\n",
    "\n",
    "# Results\n",
    "plt.show()\n",
    "fig.savefig(os.path.join('imgs', 'matrix_rms.png'), bbox_inches='tight')"
   ]
  },
  {
   "cell_type": "code",
   "execution_count": null,
   "id": "9c2d95e2",
   "metadata": {},
   "outputs": [],
   "source": [
    "df['nome_rm'].fillna(value='_Fora de RMs/AUs', inplace=True)\n",
    "df.to_csv(os.path.join('data', 'tabs', 'tab_municipio_allinfos.csv'), index=False)"
   ]
  },
  {
   "cell_type": "markdown",
   "id": "82c18785",
   "metadata": {},
   "source": [
    "<br>\n",
    "\n",
    "**Referências**\n",
    "\n",
    "- [Kaggle: Applying heatmaps for categorical data analysis](https://www.kaggle.com/tsilveira/applying-heatmaps-for-categorical-data-analysis)\n",
    "- [Ultimate Guide to Heatmaps in Seaborn with Python](https://stackabuse.com/ultimate-guide-to-heatmaps-in-seaborn-with-python/)\n",
    "- [StackOverflow: How can I have a bar next to python seaborn heatmap which shows the summation of row values?](https://stackoverflow.com/questions/33379261/how-can-i-have-a-bar-next-to-python-seaborn-heatmap-which-shows-the-summation-of)"
   ]
  }
 ],
 "metadata": {
  "kernelspec": {
   "display_name": "Python [conda env:pablocarreira-py38] *",
   "language": "python",
   "name": "conda-env-pablocarreira-py38-py"
  },
  "language_info": {
   "codemirror_mode": {
    "name": "ipython",
    "version": 3
   },
   "file_extension": ".py",
   "mimetype": "text/x-python",
   "name": "python",
   "nbconvert_exporter": "python",
   "pygments_lexer": "ipython3",
   "version": "3.8.8"
  },
  "toc-autonumbering": true
 },
 "nbformat": 4,
 "nbformat_minor": 5
}
