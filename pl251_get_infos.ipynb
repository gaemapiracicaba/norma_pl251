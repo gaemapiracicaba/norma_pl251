{
 "cells": [
  {
   "cell_type": "markdown",
   "metadata": {},
   "source": [
    "<br>\n",
    "\n",
    "# Introdução"
   ]
  },
  {
   "cell_type": "code",
   "execution_count": null,
   "metadata": {},
   "outputs": [],
   "source": [
    "import os\n",
    "import requests\n",
    "import pandas as pd"
   ]
  },
  {
   "cell_type": "markdown",
   "metadata": {},
   "source": [
    "<br>\n",
    "\n",
    "# Função"
   ]
  },
  {
   "cell_type": "code",
   "execution_count": null,
   "metadata": {},
   "outputs": [],
   "source": [
    "# Lê o arquivo csv com o nome dos municípios\n",
    "df = pd.read_csv(    \n",
    "    os.path.join('data', 'tabs', 'tab_pl251.csv'),\n",
    ")\n",
    "\n",
    "# Deleta Coluna\n",
    "df.drop(['municipio_nome'], axis=1, inplace=True)\n",
    "print(list(set(df['unidade'])))\n",
    "df"
   ]
  },
  {
   "cell_type": "code",
   "execution_count": null,
   "metadata": {},
   "outputs": [],
   "source": [
    "# Lê o arquivo csv com o nome dos municípios\n",
    "df_mun = pd.read_csv(\n",
    "    'https://raw.githubusercontent.com/michelmetran/sp/main/data/tabs/tab_municipio_nome.csv',\n",
    "    usecols=['id_municipio', 'municipio_nome']\n",
    ")\n",
    "\n",
    "# Merge\n",
    "df = pd.merge(\n",
    "    df_mun,\n",
    "    df,\n",
    "    how='left',\n",
    "    left_on='id_municipio',\n",
    "    right_on='id_municipio'\n",
    ")\n",
    "\n",
    "# Results\n",
    "df.head()"
   ]
  },
  {
   "cell_type": "code",
   "execution_count": null,
   "metadata": {},
   "outputs": [],
   "source": [
    "# Escreve Tabela\n",
    "df.to_csv(\n",
    "    os.path.join('data', 'tabs', 'tab_municipio_pl251.csv'),\n",
    "    index=False,\n",
    ")"
   ]
  },
  {
   "cell_type": "code",
   "execution_count": null,
   "metadata": {},
   "outputs": [],
   "source": []
  }
 ],
 "metadata": {
  "kernelspec": {
   "name": "python388jvsc74a57bd09bde4318d33bee5af1789029e7f35995ee61b19449b62cc2f74d04037c860790",
   "display_name": "Python 3.8.8 64-bit ('pablocarreira-py38': conda)"
  },
  "language_info": {
   "codemirror_mode": {
    "name": "ipython",
    "version": 3
   },
   "file_extension": ".py",
   "mimetype": "text/x-python",
   "name": "python",
   "nbconvert_exporter": "python",
   "pygments_lexer": "ipython3",
   "version": "3.8.8"
  },
  "toc": {
   "base_numbering": 1,
   "nav_menu": {},
   "number_sections": true,
   "sideBar": true,
   "skip_h1_title": false,
   "title_cell": "Table of Contents",
   "title_sidebar": "Contents",
   "toc_cell": false,
   "toc_position": {},
   "toc_section_display": true,
   "toc_window_display": true
  },
  "toc-autonumbering": true,
  "toc-showcode": false
 },
 "nbformat": 4,
 "nbformat_minor": 4
}